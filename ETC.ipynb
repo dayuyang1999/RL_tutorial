{
  "cells": [
    {
      "cell_type": "markdown",
      "metadata": {
        "id": "3DVUkrr5ap39"
      },
      "source": [
        "# Explore then Commit (ETC)\n",
        "\n",
        "In this excercises, we will be playing with the Multi-arm bandit problem with Explore then Commit algorithm.\n",
        "\n",
        "## Setup\n",
        "\n",
        "Consider unstructural bandit problem. Suppose we have $k$ arms, each with random rewards $p_i = u_i + \\epsilon$ where $\\epsilon$ is draw from i.i.d. standard gaussian. (Note that we only require $\\epsilon$ to be sub-gaussian for the analysis to go through)\n",
        "\n",
        "The following codes is capturing the setup."
      ]
    },
    {
      "cell_type": "code",
      "execution_count": null,
      "metadata": {
        "id": "fL4ICAZXV5UZ"
      },
      "outputs": [],
      "source": [
        "from typing import List\n",
        "import numpy as np\n",
        "# import pdb\n",
        "import matplotlib.pyplot as plt\n",
        "import time"
      ]
    },
    {
      "cell_type": "code",
      "execution_count": null,
      "metadata": {
        "id": "mve-Cs7ODbfs"
      },
      "outputs": [],
      "source": [
        "class Gaussian_Arm:\n",
        "  def __init__(self, num_arms:int, mu:List[float]=None):\n",
        "    \"\"\"\n",
        "    num_arms: (int). the number of arms\n",
        "    mu: (None or list-type). the mean of the reward of each arm.\n",
        "        if set to None, a random vector will be generated.\n",
        "    \"\"\"\n",
        "    if num_arms <= 1 or not isinstance(num_arms, int):\n",
        "      print('number of arms has an int that is at least two')\n",
        "      return\n",
        "    \n",
        "    self.num_arms = num_arms\n",
        "    #\n",
        "    if mu:\n",
        "      self.mu = np.asarray(mu)\n",
        "      if len(self.mu) != num_arms:\n",
        "        print('The lenth of mu does not match the number of arms')\n",
        "        return\n",
        "    else:\n",
        "      self.mu = np.random.rand(num_arms)\n",
        "    # \n",
        "    self.delta = max(self.mu) - min(self.mu)\n",
        "    #\n",
        "\n",
        "    # keep track of the rewards for the user\n",
        "    self.rewards_history = []\n",
        "    # keep track of how many times the arms have been pulled\n",
        "    self.total_pull = 0 \n",
        "\n",
        "  def pull_arm(self, arm_id:int =-1, pull_time:int =1) -> float:\n",
        "    if arm_id < 0 or arm_id >= self.num_arms:\n",
        "      print('please specify arm id in the range of 0-%d' % self.num_arms)\n",
        "      return -1\n",
        "    assert (isinstance(pull_time, int) and pull_time >= 1)\n",
        "    self.total_pull += pull_time\n",
        "    # Generate reward\n",
        "    reward = self.mu[arm_id] * pull_time + sum(np.random.randn(pull_time))\n",
        "    self.rewards_history.append(reward)\n",
        "    return reward\n",
        "\n",
        "  def genie_reward(self):\n",
        "    \"\"\"\n",
        "    the best expected reward after pulling self.total_pull times\n",
        "    \"\"\"\n",
        "    best_mu = max(self.mu)\n",
        "    return self.total_pull * best_mu\n",
        "\n",
        "  def my_rewards(self):\n",
        "    return sum(self.rewards_history)\n",
        "\n",
        "  def clear_reward_hist(self):\n",
        "    self.rewards_history = []\n",
        "    self.total_pull = 0\n"
      ]
    },
    {
      "cell_type": "markdown",
      "metadata": {
        "id": "Ce_E9sfwDlgo"
      },
      "source": [
        "## Algorithm review\n",
        "\n",
        "(Please refer to the lecture notes and the text book for details)\n",
        "\n",
        "The parameter to set: the exploration time m\\*k\n",
        "\n",
        "1. Play each arm in the round-robin fashion until each arm are played m times\n",
        "2. Compute the empirical reward estimation for each arm\n",
        "3. Play the best arm (according to the empirical reward estimation) until the end of the game\n",
        "\n",
        "## Goal of these exercises\n",
        "\n",
        "Implement the following:\n",
        "\n",
        "1. Basic ETC algorithm implementation\n",
        "2. Plot the expected regret of ETC VS horizon ($n$).\n",
        "3. The doubling trick.\n",
        "4. Plot the expected regret of ETC with doubling trick VS horizon ($n$).\n",
        "\n",
        "Answer the following:\n",
        "\n",
        "1. What are the pros and cons of the doubling trick?\n",
        "2. Does the regret VS horizon plot looks like $\\log n$?\n",
        "3. What if the exploration time is not set appropriately  (which means, we explore too little or too much) (Usually because the sub-optimality gap cannot be estimated appropriately)?\n",
        "4. (Open-ended) Can we improve ETC?\n",
        "\n",
        "## Tips:\n",
        "1. The regret is expected to be logarithmic against the horizon. To check if the relationship is logarithmic, one can use the semilogx function in matplotlib.pyplot\n",
        "2. When the regret is not logarithmic, please check against the analysis, and obtain insights there for debugging.\n",
        "3. To see a smooth curve, one would have to repeat the simulation for multiple time, and take the empirical mean of the regret. This may be slow, if implemented on a single process. So please try-out parallel implementation, if you are comfortable with it (the simulation is very parallelable).\n"
      ]
    },
    {
      "cell_type": "code",
      "execution_count": null,
      "metadata": {
        "id": "wsakDZnMV5Ub"
      },
      "outputs": [],
      "source": [
        "# Setup\n",
        "np.random.seed(2021)\n",
        "num_trials = 10000\n",
        "num_arms = 2\n",
        "reward_probs = -np.sort(-np.random.uniform(0,1,num_arms))\n",
        "horizons = np.linspace(100, 20000, 50).astype(np.int)\n",
        "# horizons = np.logspace(1, 5, 91).astype(np.int)\n",
        "bandit = Gaussian_Arm(num_arms, reward_probs.tolist())\n",
        "# calculate suboptimality gap\n",
        "delta = reward_probs[0] - reward_probs[1]"
      ]
    },
    {
      "cell_type": "code",
      "execution_count": null,
      "metadata": {
        "pycharm": {
          "name": "#%%\n"
        },
        "id": "nQHszAboV5Uc"
      },
      "outputs": [],
      "source": [
        "def etc(bandit, delta, n, n_max):\n",
        "    # print('n: %d | n_max: %d' % (n, n_max))\n",
        "    num_arms = bandit.num_arms\n",
        "    times_arms_pulled = np.zeros((num_arms, ))\n",
        "    bandit.clear_reward_hist()\n",
        "    arm_scores = np.zeros((num_arms, ))\n",
        "    m = int(np.maximum(1, np.ceil(4/delta**2 * np.log(n * delta**2 / 4)))) # Calculate m for each n\n",
        "    if n_max > num_arms * m:\n",
        "        for k in range(num_arms):\n",
        "            arm_scores[k] = bandit.pull_arm(k, m)\n",
        "        times_arms_pulled[:] = m\n",
        "        remaining_pulls = int(n - m*num_arms)\n",
        "        if n_max < n:\n",
        "            remaining_pulls = int(n_max - m*num_arms)\n",
        "        if remaining_pulls > 0:\n",
        "            best_arm = int(np.argmax(arm_scores))\n",
        "            bandit.pull_arm(best_arm, remaining_pulls)\n",
        "            times_arms_pulled[best_arm] += remaining_pulls\n",
        "    else:\n",
        "        all = int(n_max // num_arms)\n",
        "        remainder = int(n_max % num_arms)\n",
        "        # print('all: %d, remainder: %d' % (all, remainder))\n",
        "        for k in range(num_arms):\n",
        "            arm_scores[k] = bandit.pull_arm(k, all)\n",
        "        times_arms_pulled[:] = all\n",
        "        for k in range(remainder):\n",
        "            arm_scores[k] += bandit.pull_arm(k, 1)\n",
        "            times_arms_pulled[k] += 1\n",
        "    # print(np.ceil(4/delta**2 * np.log(n * delta**2 / 4)))\n",
        "    # print('m: %d | times pulled: %s' % (m, str(times_arms_pulled)))\n",
        "    return times_arms_pulled"
      ]
    },
    {
      "cell_type": "code",
      "execution_count": null,
      "metadata": {
        "pycharm": {
          "name": "#%%\n"
        },
        "id": "JpBIiATkV5Uc",
        "outputId": "52b4fc44-4e7e-4b20-a795-724a9f5291bc"
      },
      "outputs": [
        {
          "name": "stdout",
          "output_type": "stream",
          "text": [
            "10000/10000 | 680.90 s"
          ]
        }
      ],
      "source": [
        "## ETC\n",
        "\n",
        "player_rewards = np.zeros((num_trials, len(horizons)))\n",
        "optimal_reward = np.zeros(len(horizons))\n",
        "times_arms_pulled = np.zeros((num_trials, num_arms, len(horizons)))\n",
        "\n",
        "start_time = time.time()\n",
        "for trial in range(num_trials):\n",
        "    print('\\r%3d/%3d | %5.2f s' % (trial, num_trials, time.time() - start_time), end='')\n",
        "    for idx_n, n in enumerate(horizons):\n",
        "        times_arms_pulled[trial, :, idx_n] = etc(bandit, delta, n, n)\n",
        "print('\\r%3d/%3d | %4.2f s' % (num_trials, num_trials, time.time() - start_time), end='')"
      ]
    },
    {
      "cell_type": "code",
      "execution_count": null,
      "metadata": {
        "pycharm": {
          "name": "#%%\n"
        },
        "id": "dPErPuStV5Ud"
      },
      "outputs": [],
      "source": [
        "average_arms_pulled = np.mean(times_arms_pulled, 0)\n",
        "regret = delta * average_arms_pulled[1,:]"
      ]
    },
    {
      "cell_type": "code",
      "execution_count": null,
      "metadata": {
        "pycharm": {
          "name": "#%%\n"
        },
        "id": "RzQlCw5RV5Ue",
        "outputId": "a48487cc-b4ca-4deb-b47c-3ce2ed654731"
      },
      "outputs": [
        {
          "data": {
            "image/png": "[encoded data removed]",
            "text/plain": [
              "<Figure size 432x288 with 1 Axes>"
            ]
          },
          "metadata": {
            "needs_background": "light"
          },
          "output_type": "display_data"
        }
      ],
      "source": [
        "expected = np.minimum(horizons * delta, delta + 4/delta * (1  + np.maximum(0, np.log(horizons * delta**2 / 4))))\n",
        "\n",
        "plt.plot(horizons, regret, label='emperical')\n",
        "# plt.semilogx(horizons, regret, label='emperical')\n",
        "plt.plot(horizons, expected, label='expected UB')\n",
        "plt.title('average regret for a %d-armed bandit after %d trials' % (num_arms, num_trials))\n",
        "plt.ylabel('regret')\n",
        "plt.xlabel('horizon')\n",
        "plt.legend()\n",
        "plt.show()"
      ]
    },
    {
      "cell_type": "code",
      "execution_count": null,
      "metadata": {
        "pycharm": {
          "name": "#%%\n"
        },
        "id": "xV34wSfsV5Ue",
        "outputId": "80f403f1-7a47-4866-d751-73fad602df99"
      },
      "outputs": [
        {
          "name": "stdout",
          "output_type": "stream",
          "text": [
            "10000/10000 | 851.35 s"
          ]
        }
      ],
      "source": [
        "## ETC w/ doubling trick\n",
        "\n",
        "player_rewards = np.zeros((num_trials, len(horizons)))\n",
        "optimal_reward = np.zeros(len(horizons))\n",
        "times_arms_pulled = np.zeros((num_trials, num_arms, len(horizons)))\n",
        "\n",
        "start_time = time.time()\n",
        "for trial in range(num_trials):\n",
        "    print('\\r%3d/%3d | %5.2f s' % (trial, num_trials, time.time() - start_time), end='')\n",
        "    for idx_n, n in enumerate(horizons):\n",
        "        pulls_remaining = int(n)\n",
        "        i = 1\n",
        "        while pulls_remaining > 0:\n",
        "            n_i = int(2**i)\n",
        "            iteration_pulls = etc(bandit, delta, n_i, pulls_remaining)\n",
        "            times_arms_pulled[trial, :, idx_n] += iteration_pulls\n",
        "            i+=1\n",
        "            pulls_remaining -= np.sum(iteration_pulls)\n",
        "            assert pulls_remaining >= 0\n",
        "print('\\r%3d/%3d | %4.2f s' % (num_trials, num_trials, time.time() - start_time), end='')"
      ]
    },
    {
      "cell_type": "code",
      "execution_count": null,
      "metadata": {
        "pycharm": {
          "name": "#%%\n"
        },
        "id": "l4Pwg84PV5Uf"
      },
      "outputs": [],
      "source": [
        "average_arms_pulled = np.mean(times_arms_pulled, 0)\n",
        "regret = delta * average_arms_pulled[1,:]"
      ]
    },
    {
      "cell_type": "code",
      "execution_count": null,
      "metadata": {
        "pycharm": {
          "name": "#%%\n"
        },
        "id": "1fOFvzvdV5Uf",
        "outputId": "566d3e98-fe24-4dfe-c1fe-d0ef366f4f08"
      },
      "outputs": [
        {
          "data": {
            "image/png": "[encoded data removed]",
            "text/plain": [
              "<Figure size 432x288 with 1 Axes>"
            ]
          },
          "metadata": {
            "needs_background": "light"
          },
          "output_type": "display_data"
        }
      ],
      "source": [
        "plt.plot(horizons, regret, label='emperical')\n",
        "# c = 0\n",
        "# expected = c * np.log(horizons) + (4 / (delta * np.log(2)) * (np.log(horizons)**2))\n",
        "# c = 2*(1+np.sqrt(2))\n",
        "# expected = c * np.sqrt(horizons)\n",
        "c = 4\n",
        "expected = delta + c * np.sqrt(horizons)\n",
        "plt.plot(horizons, expected, label='expected UB, C=%1.3f' % c)\n",
        "expected = np.minimum(horizons * delta, delta + 4/delta * (1  + np.maximum(0, np.log(horizons * delta**2 / 4))))\n",
        "plt.plot(horizons, expected, label='standard ETC expected UB')\n",
        "plt.title('average regret for a %d-armed bandit after %d trials w/ doubling trick' % (num_arms, num_trials))\n",
        "plt.ylabel('regret')\n",
        "plt.xlabel('horizon')\n",
        "plt.legend()\n",
        "plt.show()"
      ]
    },
    {
      "cell_type": "markdown",
      "metadata": {
        "id": "Tn9_OwRYV5Uf"
      },
      "source": [
        "1. What are the pros and cons of the doubling trick?\n",
        "\n",
        "An advantage of the doubling trick is that it does not rely on knowing the time horizon. This comes at the cost of a constant factor increase of regret, its most obvious disadvantage.\n",
        "The algorithm still does require foreknowledge of the suboptimality gap which is likely not known.\n",
        "\n",
        "2. Does the regret VS horizon plot looks like $\\log n$?\n",
        "\n",
        "With the standard ETC algorithm, yes. With the doubling trick, the shape more closely resembles a mix of $\\log n$ and $\\sqrt{n}$\n",
        "\n",
        "3. What if the exploration time is not set appropriately (which means, we explore too little or too much) (Usually because the sub-optimality gap cannot be estimated appropriately)?\n",
        "\n",
        "If the exploration time is too short then it is likely that a suboptimal choice is being commited to.\n",
        "If the exploration time is too long then pulls will be wasted on suboptimal choices when an appropriate confidence level has been determined.\n",
        "If m is fixed, regret grows linearly with n. This implies that even if the sub-optimality gap is known, stopping exploring when the time horizon is unknown is a poor strategy.\n",
        "\n",
        "4. (Open-ended) Can we improve ETC?\n",
        "\n",
        "With two arms of gaussian distributions, uniform sampling is an optimal exploration strategy.\n",
        "For multiple arms, the exploration strategy could be different. When confidence that an arm is suboptimal is sufficiently large it could be dropped from the exploration pool.\n",
        "Continually selecting the best arm is also optimal in the exploitation phase.\n",
        "Other than better exploration strategies, it is difficult to see where ETC could be improved given the information it has access to and how close it is to the optimal solution."
      ]
    }
  ],
  "metadata": {
    "colab": {
      "collapsed_sections": [],
      "name": "ETC_assignment.ipynb",
      "provenance": []
    },
    "kernelspec": {
      "display_name": "Python 3",
      "language": "python",
      "name": "python3"
    },
    "language_info": {
      "codemirror_mode": {
        "name": "ipython",
        "version": 3
      },
      "file_extension": ".py",
      "mimetype": "text/x-python",
      "name": "python",
      "nbconvert_exporter": "python",
      "pygments_lexer": "ipython3",
      "version": "3.8.5"
    }
  },
  "nbformat": 4,
  "nbformat_minor": 0
}