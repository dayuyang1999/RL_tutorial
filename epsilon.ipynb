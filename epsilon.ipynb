{
  "nbformat": 4,
  "nbformat_minor": 0,
  "metadata": {
    "colab": {
      "name": "Copy of e-greedy-assignment.ipynb",
      "provenance": [],
      "collapsed_sections": []
    },
    "kernelspec": {
      "name": "python3",
      "display_name": "Python 3"
    }
  },
  "cells": [
    {
      "cell_type": "markdown",
      "metadata": {
        "id": "cg6j20e4VJDm"
      },
      "source": [
        "# Epsilon Greedy\n",
        "\n",
        "\n",
        "## Setup\n",
        "\n",
        "As before, consider unstructural bandit problem. Suppose we have $k$ arms, each with random rewards $p_i = u_i + \\epsilon$ where $\\epsilon$ is draw from i.i.d. standard gaussian. (Note that we only require $\\epsilon$ to be sub-gaussian for the analysis to go through)\n",
        "\n",
        "The following codes is capturing the setup."
      ]
    },
    {
      "cell_type": "code",
      "metadata": {
        "id": "EVZB0Qo2VJjv"
      },
      "source": [
        "import numpy as np\n",
        "import pdb\n",
        "\n",
        "\n",
        "class Gaussian_Arm:\n",
        "  def __init__(self, num_arms, mu=None):\n",
        "    '''\n",
        "    num_arms: (int). the number of arms\n",
        "    mu: (None or list-type). the mean of the reward of each arm.\n",
        "        if set to None, a random vector will be generated.\n",
        "    '''\n",
        "    if num_arms <= 1 or not isinstance(num_arms, int):\n",
        "      print('number of arms has an int that is at least two')\n",
        "      return\n",
        "    \n",
        "    self.num_arms = num_arms\n",
        "    #\n",
        "    if mu:\n",
        "      self.mu = np.asarray(mu)\n",
        "      if len(self.mu) != num_arms:\n",
        "        print('The lenth of mu does not match the number of arms')\n",
        "        return\n",
        "    else:\n",
        "      self.mu = np.random.rand((num_arms))\n",
        "    # \n",
        "    self.delta = max(self.mu) - min(self.mu)\n",
        "    #\n",
        "\n",
        "    # keep track of the rewards for the user\n",
        "    self.rewards_history = []\n",
        "    # keep track of how many times the arms have been pulled\n",
        "    self.total_pull = 0 \n",
        "\n",
        "  def pull_arm(self, arm_id=-1):\n",
        "    if arm_id < 0 or arm_id >= self.num_arms:\n",
        "      print('please specify arm id in the range of 0-%d' % (self.num_arms))\n",
        "      return\n",
        "    self.total_pull += 1\n",
        "    # Generate reward\n",
        "    reward = self.mu[arm_id] + np.random.randn()\n",
        "    self.rewards_history.append(reward)\n",
        "    return reward\n",
        "\n",
        "\n",
        "  def genie_reward(self):\n",
        "    '''\n",
        "    the best expected reward after pulling self.total_pull times\n",
        "    '''\n",
        "    best_mu = max(self.mu)\n",
        "    return self.total_pull * best_mu\n",
        "\n",
        "  def my_rewards(self):\n",
        "    return sum(self.rewards_history)\n",
        "\n",
        "  def clear_reward_hist(self):\n",
        "    self.rewards_history = []\n",
        "    self.total_pull = 0\n",
        "\n"
      ],
      "execution_count": null,
      "outputs": []
    },
    {
      "cell_type": "code",
      "metadata": {
        "id": "xDTTc5oe9_hm"
      },
      "source": [
        "import matplotlib.pyplot as plt\n"
      ],
      "execution_count": null,
      "outputs": []
    },
    {
      "cell_type": "code",
      "metadata": {
        "id": "kLDDdjy23IDq"
      },
      "source": [
        "def choice_eps(c, k, t, Deltamin):\n",
        "    return min(1, (c*k)/(t*Deltamin**2))"
      ],
      "execution_count": null,
      "outputs": []
    },
    {
      "cell_type": "code",
      "metadata": {
        "id": "hgF9uYyv8o6s"
      },
      "source": [
        "means = [0, 1] # mean = 0, 2, N(0, 1) and N(2, 1)"
      ],
      "execution_count": null,
      "outputs": []
    },
    {
      "cell_type": "code",
      "metadata": {
        "id": "KYEsae4m5OM6"
      },
      "source": [
        "def greedy(N, c=100):\n",
        "    env1 = Gaussian_Arm(len(means), means) \n",
        "\n",
        "    k = env1.num_arms\n",
        "    # first k\n",
        "    for i in range(k):\n",
        "        env1.pull_arm(i)\n",
        "\n",
        "    # after k\n",
        "    t = k\n",
        "    Delta = abs(means[0] - means[1])\n",
        "\n",
        "    for i in range(N-k):\n",
        "        t +=1\n",
        "        p = np.random.random()\n",
        "        eps = choice_eps(c, k, t, Delta)\n",
        "        if p < eps:\n",
        "            idx = np.random.choice(2)\n",
        "        else:\n",
        "            idx = max(range(len(means)), key=means.__getitem__)\n",
        "        env1.pull_arm(idx)\n",
        "    \n",
        "    regret = env1.genie_reward() - env1.my_rewards()\n",
        "\n",
        "    return regret"
      ],
      "execution_count": null,
      "outputs": []
    },
    {
      "cell_type": "code",
      "metadata": {
        "id": "Dre3KhzH9FSX"
      },
      "source": [
        "def simulation(method):\n",
        "    max_horizon=5000\n",
        "    run_each_horizon = 200\n",
        "    cache = []\n",
        "    for n in range(2, max_horizon):  # [10**(i+1) for i in range(13)]\n",
        "        subcache = 0\n",
        "        for j in range(run_each_horizon):\n",
        "            subcache += method(n)\n",
        "        cache.append(subcache/run_each_horizon)\n",
        "    plt.figure(0)\n",
        "    plt.plot(cache, label='Regret')\n",
        "    plt.title(method.__name__ +\" - Regret vs n\")\n",
        "    plt.legend()\n",
        "\n",
        "    plt.figure(1)\n",
        "    plt.plot(cache, label='Regret after log')\n",
        "    plt.title(method.__name__ +\" - Regret vs n\")\n",
        "    plt.legend()\n",
        "    plt.xscale('log')\n",
        "    plt.legend()\n",
        "\n"
      ],
      "execution_count": null,
      "outputs": []
    },
    {
      "cell_type": "code",
      "metadata": {
        "colab": {
          "base_uri": "https://localhost:8080/",
          "height": 548
        },
        "id": "2rSVysag9Me2",
        "outputId": "e6bb528a-4d26-4647-ff6a-5d641bd491f6"
      },
      "source": [
        "simulation(greedy)"
      ],
      "execution_count": null,
      "outputs": [
        {
          "output_type": "display_data",
          "data": {
            "image/png": "[encoded data removed]",
            "text/plain": [
              "<Figure size 432x288 with 1 Axes>"
            ]
          },
          "metadata": {
            "tags": [],
            "needs_background": "light"
          }
        },
        {
          "output_type": "display_data",
          "data": {
            "image/png": "[encoded data removed]",
            "text/plain": [
              "<Figure size 432x288 with 1 Axes>"
            ]
          },
          "metadata": {
            "tags": [],
            "needs_background": "light"
          }
        }
      ]
    },
    {
      "cell_type": "code",
      "metadata": {
        "id": "Alw0kUAR9QM7"
      },
      "source": [
        "# lower: logize"
      ],
      "execution_count": null,
      "outputs": []
    },
    {
      "cell_type": "code",
      "metadata": {
        "id": "SXOFLISyCjWH"
      },
      "source": [
        ""
      ],
      "execution_count": null,
      "outputs": []
    }
  ]
}