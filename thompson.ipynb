{
  "nbformat": 4,
  "nbformat_minor": 0,
  "metadata": {
    "colab": {
      "name": "My copy of Thompson-Sampling-Assignment",
      "provenance": [],
      "collapsed_sections": []
    },
    "kernelspec": {
      "name": "python3",
      "display_name": "Python 3"
    }
  },
  "cells": [
    {
      "cell_type": "markdown",
      "metadata": {
        "id": "-Sa6Tg_Jsn-k"
      },
      "source": [
        "## Thompson Sampling\n",
        "\n",
        "In this excercise, we will be playing with the Multi-arm bandit problem with the UCB algorithm.\n",
        "\n",
        "Assume we are under the Bernoulli reward setting."
      ]
    },
    {
      "cell_type": "code",
      "metadata": {
        "id": "x8uoo3FnsCrf"
      },
      "source": [
        "import numpy as np\n",
        "import matplotlib.pyplot as plt\n",
        "from tqdm import tqdm\n",
        "from scipy.stats import beta\n",
        "\n",
        "mu = np.array([0.30, 0.25, 0.20, 0.15, 0.10])\n",
        "#mu = np.array([0.30, 0.25, 0.20, 0.15, 0.10, 0.05, 0.1, 0.15, 0.2, 0.25, 0.3])\n",
        "#mu = np.array([0.30, 0.55])\n",
        "\n",
        "class Bernoulli_Bandit():\n",
        "  def __init__(self, num_arms, mu=None):\n",
        "    self.num_arms = num_arms\n",
        "    if mu is None:\n",
        "      self.mu = np.random.uniform(0,1, num_arms)\n",
        "    else:\n",
        "      self.mu = np.array(mu)\n",
        "    self.total_pull = 0 \n",
        "  \n",
        "  def pull_arm(self, arm):\n",
        "    reward = 1 if np.random.random()< self.mu[arm] else 0\n",
        "    self.total_pull += 1 \n",
        "    return reward\n",
        "\n",
        "  def genie_reward(self, pull_times=1):\n",
        "    return self.mu.max() * pull_times\n"
      ],
      "execution_count": null,
      "outputs": []
    },
    {
      "cell_type": "code",
      "metadata": {
        "id": "8Ri10DTe625k"
      },
      "source": [
        "# Thompson Sampling Algorithm\n",
        "def Thompson(arms, k, n):\n",
        "  # Keep track of rewards & number of pulls of each arm\n",
        "  reward_track = np.zeros(k)\n",
        "  pulls_track = np.zeros(k)\n",
        "  expectedRegret = []\n",
        "  regretPerIter = []\n",
        "  totalPulls = 0\n",
        "  rewards = 0\n",
        "\n",
        "  # Initialize alpha, beta\n",
        "  a = np.ones(k)\n",
        "  b = np.ones(k)\n",
        "\n",
        "  # Main loop of Thompson Sampling\n",
        "  for i in range(n):\n",
        "    # draw samples from Q\n",
        "    betas = zip(a, b)\n",
        "    draws = [beta.rvs(i[0],i[1], size = 1) for i in betas]\n",
        "    \n",
        "    # draw from best arm\n",
        "    bestArm = draws.index(max(draws))\n",
        "    \n",
        "    # Pull best arm\n",
        "    reward = arms.pull_arm(bestArm)\n",
        "    rewards += reward\n",
        "    reward_track[bestArm] += reward\n",
        "    pulls_track[bestArm] += 1\n",
        "    a[bestArm] += reward\n",
        "    b[bestArm] += 1 - reward\n",
        "\n",
        "    # Regret calculation\n",
        "    totalPulls += 1\n",
        "    expRegret = abs(arms.genie_reward(totalPulls) - rewards )\n",
        "    expectedRegret.append( expRegret )\n",
        "    thisRegret = abs(( arms.genie_reward() ) - reward)\n",
        "    regretPerIter.append(thisRegret)\n",
        "\n",
        "  return expectedRegret, regretPerIter\n"
      ],
      "execution_count": null,
      "outputs": []
    },
    {
      "cell_type": "code",
      "metadata": {
        "id": "A42KKaPN4INT"
      },
      "source": [
        "#Basic UCB algorithm implementation\n",
        "def U(mu, delta, numPulls):\n",
        "  if numPulls == 0:\n",
        "    return float('inf')\n",
        "  else:\n",
        "    return mu + np.sqrt( (2 * np.log(1/delta) ) / (numPulls) )\n",
        "\n",
        "def UCB(arms, k, n):\n",
        "  # Keep track of rewards & number of pulls of each arm\n",
        "  reward_track = np.zeros(k)\n",
        "  pulls_track = np.zeros(k)\n",
        "  expectedRegret = []\n",
        "  regretPerIter = []\n",
        "  totalPulls = 0\n",
        "  rewards = 0\n",
        "\n",
        "  # Initialize delta\n",
        "  delta = 1/(n**2)\n",
        "\n",
        "  # Play each arm once\n",
        "  for arm in range(k):\n",
        "    reward = arms.pull_arm(arm)\n",
        "    rewards += reward\n",
        "    reward_track[arm] += reward\n",
        "    pulls_track[arm] += 1\n",
        "\n",
        "    # Regret calculation\n",
        "    totalPulls += 1\n",
        "    expRegret = abs(arms.genie_reward(totalPulls) - rewards )\n",
        "    expectedRegret.append( expRegret )\n",
        "    thisRegret = abs(( arms.genie_reward()) - reward)\n",
        "    regretPerIter.append(thisRegret)\n",
        "\n",
        "  # Generate estimates\n",
        "  estimates = np.zeros(k)\n",
        "  for arm in range(k):\n",
        "    estimates[arm] = reward_track[arm] / pulls_track[arm]\n",
        "\n",
        "  # Main loop of UCB\n",
        "  while totalPulls < n:\n",
        "    # Pick the best arm according to U function\n",
        "    bestVal = -99999999\n",
        "    bestArm = 0\n",
        "    for arm in range(k):\n",
        "      thisArmU = U(estimates[arm], delta, pulls_track[arm])\n",
        "      if thisArmU > bestVal:\n",
        "        bestArm = arm\n",
        "        bestVal = thisArmU\n",
        "\n",
        "    # Pull arm\n",
        "    reward = arms.pull_arm(bestArm)\n",
        "    rewards += reward\n",
        "    reward_track[bestArm] += reward\n",
        "    pulls_track[bestArm] += 1\n",
        "    estimates[bestArm] = reward_track[bestArm] / pulls_track[bestArm]\n",
        "\n",
        "    # Regret calculation\n",
        "    totalPulls += 1\n",
        "    expRegret = abs(arms.genie_reward(totalPulls) - rewards )\n",
        "    expectedRegret.append( expRegret )\n",
        "    thisRegret = abs(( arms.genie_reward() ) - reward)\n",
        "    regretPerIter.append(thisRegret)\n",
        "\n",
        "  return expectedRegret, regretPerIter\n"
      ],
      "execution_count": null,
      "outputs": []
    },
    {
      "cell_type": "code",
      "metadata": {
        "colab": {
          "base_uri": "https://localhost:8080/",
          "height": 281
        },
        "id": "BcXWB4gz4ist",
        "outputId": "48d90578-0ba9-4b59-9679-b1920cf7c1cf"
      },
      "source": [
        "#Plot the regret VS horizon(n)\n",
        "k = 5\n",
        "n = 10000\n",
        "arms = Bernoulli_Bandit(k,mu)\n",
        "\n",
        "expRegretUCB, regretPerIterUCB = UCB(arms, k, n)\n",
        "expRegretThompson, regretPerIterThompson = Thompson(arms, k, n)\n",
        "\n",
        "x_coor = [i for i in range(len(expRegretUCB))]\n",
        "plt.plot(x_coor, expRegretUCB, label = \"UCB\")\n",
        "plt.plot(x_coor, expRegretThompson, label = \"Thompson\")\n",
        "plt.title('Bernoulli: Thompson vs UCB: Expected regret VS horizon')\n",
        "plt.legend()\n",
        "plt.show()\n"
      ],
      "execution_count": null,
      "outputs": [
        {
          "output_type": "display_data",
          "data": {
            "image/png": "[encoded data removed]",
            "text/plain": [
              "<Figure size 432x288 with 1 Axes>"
            ]
          },
          "metadata": {
            "tags": [],
            "needs_background": "light"
          }
        }
      ]
    },
    {
      "cell_type": "markdown",
      "metadata": {
        "id": "qZ_8XukfsKNH"
      },
      "source": [
        "\n",
        "## Goal of this exercise\n",
        "1. Basic Thompson Sampling algorithm implementation\n",
        "2. Plot the regret VS horizon ($n$).\n",
        "3. Compare to the UCB algorithm.\n",
        "\n",
        "Please refer to previous assignment for tips.\n"
      ]
    }
  ]
}